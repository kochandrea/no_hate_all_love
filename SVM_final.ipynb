{
 "cells": [
  {
   "cell_type": "markdown",
   "metadata": {},
   "source": [
    "# SVM"
   ]
  },
  {
   "cell_type": "markdown",
   "metadata": {},
   "source": [
    "This notebook was run on an Amazon SageMaker ml.c5.4xlarge instance.  "
   ]
  },
  {
   "cell_type": "code",
   "execution_count": 122,
   "metadata": {},
   "outputs": [],
   "source": [
    "import pandas as pd\n",
    "import string\n",
    "import re\n",
    "import string\n",
    "import numpy as np\n",
    "import datetime\n",
    "import seaborn as sns\n",
    "\n",
    "import warnings\n",
    "warnings.filterwarnings('ignore')\n",
    "\n",
    "import nltk\n",
    "from nltk.corpus import stopwords\n",
    "from nltk.stem import PorterStemmer \n",
    "from nltk.stem import LancasterStemmer \n",
    "\n",
    "import sklearn\n",
    "from sklearn.feature_extraction.text import CountVectorizer\n",
    "from sklearn.feature_extraction.text import TfidfTransformer\n",
    "from sklearn.feature_extraction.text import TfidfVectorizer\n",
    "\n",
    "from sklearn.naive_bayes import MultinomialNB,GaussianNB\n",
    "from sklearn import svm\n",
    "from sklearn.linear_model import LogisticRegression\n",
    "\n",
    "from sklearn.metrics import accuracy_score, precision_score, recall_score, f1_score, roc_auc_score"
   ]
  },
  {
   "cell_type": "code",
   "execution_count": 4,
   "metadata": {},
   "outputs": [],
   "source": [
    "import pickle_functions as pf"
   ]
  },
  {
   "cell_type": "code",
   "execution_count": 5,
   "metadata": {},
   "outputs": [],
   "source": [
    "import model_functions as mf"
   ]
  },
  {
   "cell_type": "markdown",
   "metadata": {},
   "source": [
    "### Load and shuffle data"
   ]
  },
  {
   "cell_type": "markdown",
   "metadata": {},
   "source": [
    "Read in test.csv and train.csv"
   ]
  },
  {
   "cell_type": "code",
   "execution_count": 6,
   "metadata": {},
   "outputs": [],
   "source": [
    "train = pf.read_pickle(bucket_name='advancedml-koch-mathur-hinkson', filename='sub_train_df14_preprocessed')"
   ]
  },
  {
   "cell_type": "code",
   "execution_count": 7,
   "metadata": {},
   "outputs": [],
   "source": [
    "drop_cols = ['split', 'cleaned_w_stopwords', 'cleaned_no_stem', 'cleaned_porter', 'cleaned_lancaster', 'bigrams_unstemmed',\n",
    "       'perc_upper', 'num_exclam', 'num_words', 'perc_stopwords',\n",
    "       'num_upper_words']"
   ]
  },
  {
   "cell_type": "code",
   "execution_count": 8,
   "metadata": {},
   "outputs": [],
   "source": [
    "train = train.drop(drop_cols, axis = 1)"
   ]
  },
  {
   "cell_type": "code",
   "execution_count": 9,
   "metadata": {},
   "outputs": [
    {
     "data": {
      "text/plain": [
       "(100000, 49)"
      ]
     },
     "execution_count": 9,
     "metadata": {},
     "output_type": "execute_result"
    }
   ],
   "source": [
    "train.shape"
   ]
  },
  {
   "cell_type": "code",
   "execution_count": 10,
   "metadata": {},
   "outputs": [
    {
     "data": {
      "text/plain": [
       "Index(['id', 'target', 'comment_text', 'severe_toxicity', 'obscene',\n",
       "       'identity_attack', 'insult', 'threat', 'asian', 'atheist', 'bisexual',\n",
       "       'black', 'buddhist', 'christian', 'female', 'heterosexual', 'hindu',\n",
       "       'homosexual_gay_or_lesbian', 'intellectual_or_learning_disability',\n",
       "       'jewish', 'latino', 'male', 'muslim', 'other_disability',\n",
       "       'other_gender', 'other_race_or_ethnicity', 'other_religion',\n",
       "       'other_sexual_orientation', 'physical_disability',\n",
       "       'psychiatric_or_mental_illness', 'transgender', 'white', 'created_date',\n",
       "       'publication_id', 'parent_id', 'article_id', 'rating', 'funny', 'wow',\n",
       "       'sad', 'likes', 'disagree', 'sexual_explicit',\n",
       "       'identity_annotator_count', 'toxicity_annotator_count',\n",
       "       'cleaned_w_stopwords_str', 'cleaned_no_stem_str', 'cleaned_porter_str',\n",
       "       'cleaned_lancaster_str'],\n",
       "      dtype='object')"
      ]
     },
     "execution_count": 10,
     "metadata": {},
     "output_type": "execute_result"
    }
   ],
   "source": [
    "train.columns"
   ]
  },
  {
   "cell_type": "markdown",
   "metadata": {},
   "source": [
    "Create a new column called \"toxicity_category\" in the train data frame categorizing comments as toxic (\"1\") or non-toxic (\"0\")."
   ]
  },
  {
   "cell_type": "code",
   "execution_count": 11,
   "metadata": {},
   "outputs": [],
   "source": [
    "train['toxicity_category'] = train.target.apply(lambda x: 1 if x > 0.5 else 0)"
   ]
  },
  {
   "cell_type": "markdown",
   "metadata": {},
   "source": [
    "Split train.csv into training (80%) and hold out sets (20%)."
   ]
  },
  {
   "cell_type": "code",
   "execution_count": 12,
   "metadata": {},
   "outputs": [],
   "source": [
    "#Citation: https://stackoverflow.com/questions/24147278/how-do-i-create-test-and-train-samples-from-one-dataframe-with-pandas\n",
    "msk = np.random.rand(len(train)) < 0.8\n",
    "train_set = train[msk]\n",
    "hold_out_set = train[~msk]"
   ]
  },
  {
   "cell_type": "code",
   "execution_count": 13,
   "metadata": {},
   "outputs": [
    {
     "name": "stdout",
     "output_type": "stream",
     "text": [
      "0    74666\n",
      "1     5338\n",
      "Name: toxicity_category, dtype: int64\n"
     ]
    }
   ],
   "source": [
    "print(train_set.toxicity_category.value_counts())"
   ]
  },
  {
   "cell_type": "code",
   "execution_count": 14,
   "metadata": {},
   "outputs": [
    {
     "name": "stdout",
     "output_type": "stream",
     "text": [
      "0    18678\n",
      "1     1318\n",
      "Name: toxicity_category, dtype: int64\n"
     ]
    }
   ],
   "source": [
    "print(hold_out_set.toxicity_category.value_counts())"
   ]
  },
  {
   "cell_type": "code",
   "execution_count": 15,
   "metadata": {},
   "outputs": [
    {
     "name": "stdout",
     "output_type": "stream",
     "text": [
      "0    74666\n",
      "1     5338\n",
      "Name: toxicity_category, dtype: int64\n"
     ]
    }
   ],
   "source": [
    "print(train_set.toxicity_category.value_counts())"
   ]
  },
  {
   "cell_type": "code",
   "execution_count": 16,
   "metadata": {},
   "outputs": [],
   "source": [
    "toxic = train_set[train_set.toxicity_category == 1]\n",
    "nontoxic = train_set[train_set.toxicity_category == 0]"
   ]
  },
  {
   "cell_type": "code",
   "execution_count": 17,
   "metadata": {},
   "outputs": [
    {
     "data": {
      "text/plain": [
       "((80004, 50), (5338, 50), (74666, 50))"
      ]
     },
     "execution_count": 17,
     "metadata": {},
     "output_type": "execute_result"
    }
   ],
   "source": [
    "train_set.shape, toxic.shape, nontoxic.shape"
   ]
  },
  {
   "cell_type": "markdown",
   "metadata": {},
   "source": [
    "Reshaping the dataset to be include an equal number of toxic and nontoxic samples"
   ]
  },
  {
   "cell_type": "code",
   "execution_count": 18,
   "metadata": {},
   "outputs": [],
   "source": [
    "quarter = len(toxic)"
   ]
  },
  {
   "cell_type": "code",
   "execution_count": 19,
   "metadata": {},
   "outputs": [],
   "source": [
    "random_df = train_set.sample(quarter*4)"
   ]
  },
  {
   "cell_type": "markdown",
   "metadata": {},
   "source": [
    "Create a data set of 25% toxic and 75% nontoxic comments, and shuffle the data such that you do not have a data set of grouped toxic and grouped nontoxic comments"
   ]
  },
  {
   "cell_type": "code",
   "execution_count": 20,
   "metadata": {},
   "outputs": [
    {
     "name": "stdout",
     "output_type": "stream",
     "text": [
      "0    16014\n",
      "1     5338\n",
      "Name: toxicity_category, dtype: int64\n"
     ]
    }
   ],
   "source": [
    "prepared_25 = toxic.append(nontoxic.sample(len(toxic)*3))\n",
    "prepared_25 = prepared_25.sample(frac=1).reset_index(drop=True)\n",
    "print(prepared_25.toxicity_category.value_counts())"
   ]
  },
  {
   "cell_type": "markdown",
   "metadata": {},
   "source": [
    "### SVM - weighted 1/3 toxic, 2/3 nontoxic"
   ]
  },
  {
   "cell_type": "code",
   "execution_count": 36,
   "metadata": {},
   "outputs": [
    {
     "name": "stdout",
     "output_type": "stream",
     "text": [
      "0    10664\n",
      "1     5332\n",
      "Name: toxicity_category, dtype: int64\n"
     ]
    }
   ],
   "source": [
    "prepared_33 = toxic.append(nontoxic.sample(len(toxic)*2))\n",
    "prepared_33 = prepared_33.sample(frac=1).reset_index(drop=True)\n",
    "print(prepared_33.toxicity_category.value_counts())"
   ]
  },
  {
   "cell_type": "code",
   "execution_count": 37,
   "metadata": {},
   "outputs": [
    {
     "name": "stdout",
     "output_type": "stream",
     "text": [
      "fitting model now\n"
     ]
    }
   ],
   "source": [
    "classifier, output, fitted_vectorizer = mf.run_model(model_df=prepared_33, \n",
    "                                                     model_type=\"SVM\", \n",
    "                                                     comments = \"cleaned_no_stem_str\", \n",
    "                                                     train_perc=0.95, \n",
    "                                                     target=\"toxicity_category\", \n",
    "                                                     see_inside=False)"
   ]
  },
  {
   "cell_type": "code",
   "execution_count": 38,
   "metadata": {},
   "outputs": [
    {
     "name": "stdout",
     "output_type": "stream",
     "text": [
      "Index(['id', 'target', 'comment_text', 'severe_toxicity', 'obscene',\n",
      "       'identity_attack', 'insult', 'threat', 'asian', 'atheist', 'bisexual',\n",
      "       'black', 'buddhist', 'christian', 'female', 'heterosexual', 'hindu',\n",
      "       'homosexual_gay_or_lesbian', 'intellectual_or_learning_disability',\n",
      "       'jewish', 'latino', 'male', 'muslim', 'other_disability',\n",
      "       'other_gender', 'other_race_or_ethnicity', 'other_religion',\n",
      "       'other_sexual_orientation', 'physical_disability',\n",
      "       'psychiatric_or_mental_illness', 'transgender', 'white', 'created_date',\n",
      "       'publication_id', 'parent_id', 'article_id', 'rating', 'funny', 'wow',\n",
      "       'sad', 'likes', 'disagree', 'sexual_explicit',\n",
      "       'identity_annotator_count', 'toxicity_annotator_count',\n",
      "       'cleaned_w_stopwords_str', 'cleaned_no_stem_str', 'cleaned_porter_str',\n",
      "       'cleaned_lancaster_str', 'toxicity_category', 'predicted', 'y_test'],\n",
      "      dtype='object')\n"
     ]
    }
   ],
   "source": [
    "hold_out_results = mf.run_model_test(model_df=hold_out_set, \n",
    "                                     clf=classifier, \n",
    "                                     vectorizer=fitted_vectorizer, \n",
    "                                     comments=\"cleaned_no_stem_str\", target=\"toxicity_category\")"
   ]
  },
  {
   "cell_type": "code",
   "execution_count": 39,
   "metadata": {},
   "outputs": [
    {
     "name": "stdout",
     "output_type": "stream",
     "text": [
      "Overall Accuracy: 0.9248949845639961\n",
      "Overall Precision: 0.45987963891675027\n",
      "Overall Recall: 0.6925981873111783\n",
      "Overall F1 Score: 0.5527426160337553\n",
      "ROC_AUC: 0.817\n",
      "\n",
      "Target Accuracy: 0.6925981873111783\n",
      "Target Precision: 1.0\n",
      "Target Recall: 0.6925981873111783\n",
      "Target F1 Score: 0.8183846497099508\n",
      "\n",
      "Non-Target Accuracy: 0.9415785191212368\n",
      "Non-Target Precision: 1.0\n",
      "Non-Target Recall: 0.9415785191212368\n",
      "Non-Target F1 Score: 0.9699103176598776\n",
      "\n",
      "Strong Identity Accuracy: 0.6535433070866141\n",
      "Strong Identity Precision: 0.9425287356321839\n",
      "Strong Identity Recall: 0.6776859504132231\n",
      "Strong Identity F1 Score: 1.0\n",
      "\n",
      "Obscenity Accuracy: 0.7611940298507462\n",
      "Obscenity Precision: 1.0\n",
      "Obscenity Recall: 0.7611940298507462\n",
      "Obscenity F1 Score: 1.0\n",
      "\n",
      "Insults Accuracy: 0.742914979757085\n",
      "Insults Precision: 0.9849108367626886\n",
      "Insults Recall: 0.7471383975026015\n",
      "Insults F1 Score: 1.0\n",
      "\n",
      "Threats Accuracy: 0.3793103448275862\n",
      "Threats Precision: 1.0\n",
      "Threats Recall: 0.35714285714285715\n",
      "Threats F1 Score: 1.0\n",
      "\n"
     ]
    }
   ],
   "source": [
    "hold_out_metrics = mf.get_metrics(output=hold_out_results, detailed=True, should_print=True, round_to=3)"
   ]
  },
  {
   "cell_type": "markdown",
   "metadata": {},
   "source": [
    "### SVM - weighted 25% toxic, 75% nontoxic"
   ]
  },
  {
   "cell_type": "code",
   "execution_count": 21,
   "metadata": {},
   "outputs": [
    {
     "name": "stdout",
     "output_type": "stream",
     "text": [
      "fitting model now\n"
     ]
    }
   ],
   "source": [
    "classifier, output, fitted_vectorizer = mf.run_model(model_df=prepared_25, \n",
    "                                                     model_type=\"SVM\", \n",
    "                                                     comments = \"cleaned_no_stem_str\", \n",
    "                                                     train_perc=0.95, \n",
    "                                                     target=\"toxicity_category\", \n",
    "                                                     see_inside=False)"
   ]
  },
  {
   "cell_type": "code",
   "execution_count": 80,
   "metadata": {},
   "outputs": [
    {
     "data": {
      "text/html": [
       "<div>\n",
       "<style scoped>\n",
       "    .dataframe tbody tr th:only-of-type {\n",
       "        vertical-align: middle;\n",
       "    }\n",
       "\n",
       "    .dataframe tbody tr th {\n",
       "        vertical-align: top;\n",
       "    }\n",
       "\n",
       "    .dataframe thead th {\n",
       "        text-align: right;\n",
       "    }\n",
       "</style>\n",
       "<table border=\"1\" class=\"dataframe\">\n",
       "  <thead>\n",
       "    <tr style=\"text-align: right;\">\n",
       "      <th></th>\n",
       "      <th>id</th>\n",
       "      <th>target</th>\n",
       "      <th>comment_text</th>\n",
       "      <th>severe_toxicity</th>\n",
       "      <th>obscene</th>\n",
       "      <th>identity_attack</th>\n",
       "      <th>insult</th>\n",
       "      <th>threat</th>\n",
       "      <th>asian</th>\n",
       "      <th>atheist</th>\n",
       "      <th>...</th>\n",
       "      <th>identity_annotator_count</th>\n",
       "      <th>toxicity_annotator_count</th>\n",
       "      <th>cleaned_w_stopwords_str</th>\n",
       "      <th>cleaned_no_stem_str</th>\n",
       "      <th>cleaned_porter_str</th>\n",
       "      <th>cleaned_lancaster_str</th>\n",
       "      <th>toxicity_category</th>\n",
       "      <th>predicted</th>\n",
       "      <th>y_test</th>\n",
       "      <th>accuracy</th>\n",
       "    </tr>\n",
       "  </thead>\n",
       "  <tbody>\n",
       "    <tr>\n",
       "      <th>20284</th>\n",
       "      <td>5714292</td>\n",
       "      <td>0.600000</td>\n",
       "      <td>It was stated in the same tone as when Barack ...</td>\n",
       "      <td>0.000000</td>\n",
       "      <td>0.100000</td>\n",
       "      <td>0.100000</td>\n",
       "      <td>0.500000</td>\n",
       "      <td>0.000000</td>\n",
       "      <td>NaN</td>\n",
       "      <td>NaN</td>\n",
       "      <td>...</td>\n",
       "      <td>0</td>\n",
       "      <td>10</td>\n",
       "      <td>It was stated in the same tone as when Barack ...</td>\n",
       "      <td>it stated tone barack hussein obama stated nat...</td>\n",
       "      <td>it state tone barack hussein obama state natio...</td>\n",
       "      <td>it stat ton barack hussein obam stat nat tv th...</td>\n",
       "      <td>1</td>\n",
       "      <td>0</td>\n",
       "      <td>1</td>\n",
       "      <td>False</td>\n",
       "    </tr>\n",
       "    <tr>\n",
       "      <th>20285</th>\n",
       "      <td>5820925</td>\n",
       "      <td>0.000000</td>\n",
       "      <td>It would be nice to know from the population w...</td>\n",
       "      <td>0.000000</td>\n",
       "      <td>0.000000</td>\n",
       "      <td>0.000000</td>\n",
       "      <td>0.000000</td>\n",
       "      <td>0.000000</td>\n",
       "      <td>NaN</td>\n",
       "      <td>NaN</td>\n",
       "      <td>...</td>\n",
       "      <td>0</td>\n",
       "      <td>4</td>\n",
       "      <td>It would be nice to know from the population w...</td>\n",
       "      <td>it would nice know population whether thinks c...</td>\n",
       "      <td>it would nice know popul whether think cost wo...</td>\n",
       "      <td>it would nic know pop wheth think cost wor man...</td>\n",
       "      <td>0</td>\n",
       "      <td>1</td>\n",
       "      <td>0</td>\n",
       "      <td>False</td>\n",
       "    </tr>\n",
       "    <tr>\n",
       "      <th>20286</th>\n",
       "      <td>5751293</td>\n",
       "      <td>0.000000</td>\n",
       "      <td>\"That never attended one?\"  I never bothered w...</td>\n",
       "      <td>0.000000</td>\n",
       "      <td>0.000000</td>\n",
       "      <td>0.000000</td>\n",
       "      <td>0.000000</td>\n",
       "      <td>0.000000</td>\n",
       "      <td>NaN</td>\n",
       "      <td>NaN</td>\n",
       "      <td>...</td>\n",
       "      <td>0</td>\n",
       "      <td>4</td>\n",
       "      <td>That never attended one  I never bothered with...</td>\n",
       "      <td>that never attended one i never bothered colle...</td>\n",
       "      <td>that never attend one i never bother colleg ev...</td>\n",
       "      <td>that nev attend on i nev both colleg ev i know...</td>\n",
       "      <td>0</td>\n",
       "      <td>0</td>\n",
       "      <td>0</td>\n",
       "      <td>True</td>\n",
       "    </tr>\n",
       "    <tr>\n",
       "      <th>20287</th>\n",
       "      <td>5763154</td>\n",
       "      <td>0.200000</td>\n",
       "      <td>I'm actually kind of \"meh\" about statue remova...</td>\n",
       "      <td>0.000000</td>\n",
       "      <td>0.000000</td>\n",
       "      <td>0.100000</td>\n",
       "      <td>0.200000</td>\n",
       "      <td>0.000000</td>\n",
       "      <td>0.0</td>\n",
       "      <td>0.0</td>\n",
       "      <td>...</td>\n",
       "      <td>5</td>\n",
       "      <td>10</td>\n",
       "      <td>I'm actually kind of meh about statue removal ...</td>\n",
       "      <td>i'm actually kind meh statue removal i felt st...</td>\n",
       "      <td>i'm actual kind meh statu remov i felt strongl...</td>\n",
       "      <td>i'm act kind meh statu remov i felt strongly w...</td>\n",
       "      <td>0</td>\n",
       "      <td>0</td>\n",
       "      <td>0</td>\n",
       "      <td>True</td>\n",
       "    </tr>\n",
       "    <tr>\n",
       "      <th>20288</th>\n",
       "      <td>5719487</td>\n",
       "      <td>0.200000</td>\n",
       "      <td>The study is flawed w/ its ratings for tickets...</td>\n",
       "      <td>0.000000</td>\n",
       "      <td>0.000000</td>\n",
       "      <td>0.000000</td>\n",
       "      <td>0.200000</td>\n",
       "      <td>0.000000</td>\n",
       "      <td>NaN</td>\n",
       "      <td>NaN</td>\n",
       "      <td>...</td>\n",
       "      <td>0</td>\n",
       "      <td>10</td>\n",
       "      <td>The study is flawed w its ratings for tickets ...</td>\n",
       "      <td>the study flawed w ratings tickets running red...</td>\n",
       "      <td>the studi flaw w rate ticket run red light her...</td>\n",
       "      <td>the study flaw w rat ticket run red light her ...</td>\n",
       "      <td>0</td>\n",
       "      <td>0</td>\n",
       "      <td>0</td>\n",
       "      <td>True</td>\n",
       "    </tr>\n",
       "    <tr>\n",
       "      <th>20289</th>\n",
       "      <td>5715631</td>\n",
       "      <td>0.400000</td>\n",
       "      <td>Are you also suggesting therefore that Roman C...</td>\n",
       "      <td>0.000000</td>\n",
       "      <td>0.000000</td>\n",
       "      <td>0.400000</td>\n",
       "      <td>0.200000</td>\n",
       "      <td>0.100000</td>\n",
       "      <td>0.0</td>\n",
       "      <td>0.0</td>\n",
       "      <td>...</td>\n",
       "      <td>4</td>\n",
       "      <td>10</td>\n",
       "      <td>Are you also suggesting therefore that Roman C...</td>\n",
       "      <td>are also suggesting therefore roman catholics ...</td>\n",
       "      <td>are also suggest therefor roman cathol jew sho...</td>\n",
       "      <td>ar also suggest theref rom cathol jew should n...</td>\n",
       "      <td>0</td>\n",
       "      <td>0</td>\n",
       "      <td>0</td>\n",
       "      <td>True</td>\n",
       "    </tr>\n",
       "    <tr>\n",
       "      <th>20290</th>\n",
       "      <td>5719524</td>\n",
       "      <td>0.000000</td>\n",
       "      <td>We are building a refinery. With huge governme...</td>\n",
       "      <td>0.000000</td>\n",
       "      <td>0.000000</td>\n",
       "      <td>0.000000</td>\n",
       "      <td>0.000000</td>\n",
       "      <td>0.000000</td>\n",
       "      <td>NaN</td>\n",
       "      <td>NaN</td>\n",
       "      <td>...</td>\n",
       "      <td>0</td>\n",
       "      <td>4</td>\n",
       "      <td>We are building a refinery With huge governmen...</td>\n",
       "      <td>we building refinery with huge government subs...</td>\n",
       "      <td>we build refineri with huge govern subsidi and...</td>\n",
       "      <td>we build refinery with hug govern subsidy and ...</td>\n",
       "      <td>0</td>\n",
       "      <td>0</td>\n",
       "      <td>0</td>\n",
       "      <td>True</td>\n",
       "    </tr>\n",
       "    <tr>\n",
       "      <th>20291</th>\n",
       "      <td>5796769</td>\n",
       "      <td>0.600000</td>\n",
       "      <td>I think the guy is a creep, but please list th...</td>\n",
       "      <td>0.100000</td>\n",
       "      <td>0.100000</td>\n",
       "      <td>0.000000</td>\n",
       "      <td>0.600000</td>\n",
       "      <td>0.000000</td>\n",
       "      <td>NaN</td>\n",
       "      <td>NaN</td>\n",
       "      <td>...</td>\n",
       "      <td>0</td>\n",
       "      <td>10</td>\n",
       "      <td>I think the guy is a creep but please list the...</td>\n",
       "      <td>i think guy creep please list crime would/coul...</td>\n",
       "      <td>i think guy creep pleas list crime would/could...</td>\n",
       "      <td>i think guy creep pleas list crim would/could ...</td>\n",
       "      <td>1</td>\n",
       "      <td>0</td>\n",
       "      <td>1</td>\n",
       "      <td>False</td>\n",
       "    </tr>\n",
       "    <tr>\n",
       "      <th>20292</th>\n",
       "      <td>5816815</td>\n",
       "      <td>0.000000</td>\n",
       "      <td>You actually have the answer. It's knowledge. ...</td>\n",
       "      <td>0.000000</td>\n",
       "      <td>0.000000</td>\n",
       "      <td>0.000000</td>\n",
       "      <td>0.000000</td>\n",
       "      <td>0.000000</td>\n",
       "      <td>0.0</td>\n",
       "      <td>0.0</td>\n",
       "      <td>...</td>\n",
       "      <td>5</td>\n",
       "      <td>4</td>\n",
       "      <td>You actually have the answer It's knowledge Kn...</td>\n",
       "      <td>you actually answer it's knowledge knowledge c...</td>\n",
       "      <td>you actual answer it' knowledg knowledg creat ...</td>\n",
       "      <td>you act answ it's knowledg knowledg cre weal m...</td>\n",
       "      <td>0</td>\n",
       "      <td>0</td>\n",
       "      <td>0</td>\n",
       "      <td>True</td>\n",
       "    </tr>\n",
       "    <tr>\n",
       "      <th>20293</th>\n",
       "      <td>5787192</td>\n",
       "      <td>0.657143</td>\n",
       "      <td>Anyone who doesn't think they won't go after W...</td>\n",
       "      <td>0.057143</td>\n",
       "      <td>0.057143</td>\n",
       "      <td>0.285714</td>\n",
       "      <td>0.642857</td>\n",
       "      <td>0.014286</td>\n",
       "      <td>0.0</td>\n",
       "      <td>0.0</td>\n",
       "      <td>...</td>\n",
       "      <td>4</td>\n",
       "      <td>70</td>\n",
       "      <td>Anyone who doesn't think they won't go after W...</td>\n",
       "      <td>anyone think won't go washington jefferson pig...</td>\n",
       "      <td>anyon think won't go washington jefferson pig ...</td>\n",
       "      <td>anyon think won't go washington jefferson pig ...</td>\n",
       "      <td>1</td>\n",
       "      <td>1</td>\n",
       "      <td>1</td>\n",
       "      <td>True</td>\n",
       "    </tr>\n",
       "  </tbody>\n",
       "</table>\n",
       "<p>10 rows × 53 columns</p>\n",
       "</div>"
      ],
      "text/plain": [
       "            id    target                                       comment_text  \\\n",
       "20284  5714292  0.600000  It was stated in the same tone as when Barack ...   \n",
       "20285  5820925  0.000000  It would be nice to know from the population w...   \n",
       "20286  5751293  0.000000  \"That never attended one?\"  I never bothered w...   \n",
       "20287  5763154  0.200000  I'm actually kind of \"meh\" about statue remova...   \n",
       "20288  5719487  0.200000  The study is flawed w/ its ratings for tickets...   \n",
       "20289  5715631  0.400000  Are you also suggesting therefore that Roman C...   \n",
       "20290  5719524  0.000000  We are building a refinery. With huge governme...   \n",
       "20291  5796769  0.600000  I think the guy is a creep, but please list th...   \n",
       "20292  5816815  0.000000  You actually have the answer. It's knowledge. ...   \n",
       "20293  5787192  0.657143  Anyone who doesn't think they won't go after W...   \n",
       "\n",
       "       severe_toxicity   obscene  identity_attack    insult    threat  asian  \\\n",
       "20284         0.000000  0.100000         0.100000  0.500000  0.000000    NaN   \n",
       "20285         0.000000  0.000000         0.000000  0.000000  0.000000    NaN   \n",
       "20286         0.000000  0.000000         0.000000  0.000000  0.000000    NaN   \n",
       "20287         0.000000  0.000000         0.100000  0.200000  0.000000    0.0   \n",
       "20288         0.000000  0.000000         0.000000  0.200000  0.000000    NaN   \n",
       "20289         0.000000  0.000000         0.400000  0.200000  0.100000    0.0   \n",
       "20290         0.000000  0.000000         0.000000  0.000000  0.000000    NaN   \n",
       "20291         0.100000  0.100000         0.000000  0.600000  0.000000    NaN   \n",
       "20292         0.000000  0.000000         0.000000  0.000000  0.000000    0.0   \n",
       "20293         0.057143  0.057143         0.285714  0.642857  0.014286    0.0   \n",
       "\n",
       "       atheist  ...  identity_annotator_count  toxicity_annotator_count  \\\n",
       "20284      NaN  ...                         0                        10   \n",
       "20285      NaN  ...                         0                         4   \n",
       "20286      NaN  ...                         0                         4   \n",
       "20287      0.0  ...                         5                        10   \n",
       "20288      NaN  ...                         0                        10   \n",
       "20289      0.0  ...                         4                        10   \n",
       "20290      NaN  ...                         0                         4   \n",
       "20291      NaN  ...                         0                        10   \n",
       "20292      0.0  ...                         5                         4   \n",
       "20293      0.0  ...                         4                        70   \n",
       "\n",
       "                                 cleaned_w_stopwords_str  \\\n",
       "20284  It was stated in the same tone as when Barack ...   \n",
       "20285  It would be nice to know from the population w...   \n",
       "20286  That never attended one  I never bothered with...   \n",
       "20287  I'm actually kind of meh about statue removal ...   \n",
       "20288  The study is flawed w its ratings for tickets ...   \n",
       "20289  Are you also suggesting therefore that Roman C...   \n",
       "20290  We are building a refinery With huge governmen...   \n",
       "20291  I think the guy is a creep but please list the...   \n",
       "20292  You actually have the answer It's knowledge Kn...   \n",
       "20293  Anyone who doesn't think they won't go after W...   \n",
       "\n",
       "                                     cleaned_no_stem_str  \\\n",
       "20284  it stated tone barack hussein obama stated nat...   \n",
       "20285  it would nice know population whether thinks c...   \n",
       "20286  that never attended one i never bothered colle...   \n",
       "20287  i'm actually kind meh statue removal i felt st...   \n",
       "20288  the study flawed w ratings tickets running red...   \n",
       "20289  are also suggesting therefore roman catholics ...   \n",
       "20290  we building refinery with huge government subs...   \n",
       "20291  i think guy creep please list crime would/coul...   \n",
       "20292  you actually answer it's knowledge knowledge c...   \n",
       "20293  anyone think won't go washington jefferson pig...   \n",
       "\n",
       "                                      cleaned_porter_str  \\\n",
       "20284  it state tone barack hussein obama state natio...   \n",
       "20285  it would nice know popul whether think cost wo...   \n",
       "20286  that never attend one i never bother colleg ev...   \n",
       "20287  i'm actual kind meh statu remov i felt strongl...   \n",
       "20288  the studi flaw w rate ticket run red light her...   \n",
       "20289  are also suggest therefor roman cathol jew sho...   \n",
       "20290  we build refineri with huge govern subsidi and...   \n",
       "20291  i think guy creep pleas list crime would/could...   \n",
       "20292  you actual answer it' knowledg knowledg creat ...   \n",
       "20293  anyon think won't go washington jefferson pig ...   \n",
       "\n",
       "                                   cleaned_lancaster_str  toxicity_category  \\\n",
       "20284  it stat ton barack hussein obam stat nat tv th...                  1   \n",
       "20285  it would nic know pop wheth think cost wor man...                  0   \n",
       "20286  that nev attend on i nev both colleg ev i know...                  0   \n",
       "20287  i'm act kind meh statu remov i felt strongly w...                  0   \n",
       "20288  the study flaw w rat ticket run red light her ...                  0   \n",
       "20289  ar also suggest theref rom cathol jew should n...                  0   \n",
       "20290  we build refinery with hug govern subsidy and ...                  0   \n",
       "20291  i think guy creep pleas list crim would/could ...                  1   \n",
       "20292  you act answ it's knowledg knowledg cre weal m...                  0   \n",
       "20293  anyon think won't go washington jefferson pig ...                  1   \n",
       "\n",
       "       predicted  y_test  accuracy  \n",
       "20284          0       1     False  \n",
       "20285          1       0     False  \n",
       "20286          0       0      True  \n",
       "20287          0       0      True  \n",
       "20288          0       0      True  \n",
       "20289          0       0      True  \n",
       "20290          0       0      True  \n",
       "20291          0       1     False  \n",
       "20292          0       0      True  \n",
       "20293          1       1      True  \n",
       "\n",
       "[10 rows x 53 columns]"
      ]
     },
     "execution_count": 80,
     "metadata": {},
     "output_type": "execute_result"
    }
   ],
   "source": [
    "output.head(10)"
   ]
  },
  {
   "cell_type": "code",
   "execution_count": 22,
   "metadata": {},
   "outputs": [
    {
     "name": "stdout",
     "output_type": "stream",
     "text": [
      "Overall Accuracy: 0.8857677902621723\n",
      "Overall Precision: 0.9042553191489362\n",
      "Overall Recall: 0.6204379562043796\n",
      "Overall F1 Score: 0.7359307359307359\n",
      "ROC_AUC: 0.799\n",
      "\n",
      "Target Accuracy: 0.6204379562043796\n",
      "Target Precision: 1.0\n",
      "Target Recall: 0.6204379562043796\n",
      "Target F1 Score: 0.7657657657657658\n",
      "\n",
      "Non-Target Accuracy: 0.9773299748110831\n",
      "Non-Target Precision: 1.0\n",
      "Non-Target Recall: 0.9773299748110831\n",
      "Non-Target F1 Score: 0.9885350318471338\n",
      "\n",
      "Strong Identity Accuracy: 0.5555555555555556\n",
      "Strong Identity Precision: 1.0\n",
      "Strong Identity Recall: 0.5555555555555556\n",
      "Strong Identity F1 Score: 1.0\n",
      "\n",
      "Obscenity Accuracy: 0.7857142857142857\n",
      "Obscenity Precision: 1.0\n",
      "Obscenity Recall: 0.7857142857142857\n",
      "Obscenity F1 Score: 1.0\n",
      "\n",
      "Insults Accuracy: 0.671875\n",
      "Insults Precision: 0.9923076923076923\n",
      "Insults Recall: 0.675392670157068\n",
      "Insults F1 Score: 1.0\n",
      "\n",
      "Threats Accuracy: 0.5714285714285714\n",
      "Threats Precision: 1.0\n",
      "Threats Recall: 0.5714285714285714\n",
      "Threats F1 Score: 1.0\n",
      "\n"
     ]
    },
    {
     "data": {
      "text/plain": [
       "{'Overall': {'Accuracy': 0.8857677902621723,\n",
       "  'Precision': 0.9042553191489362,\n",
       "  'Recall': 0.6204379562043796,\n",
       "  'F1': 0.7359307359307359,\n",
       "  'ROC_AUC': 0.799},\n",
       " 'Target': {'Accuracy': 0.6204379562043796,\n",
       "  'Precision': 1.0,\n",
       "  'Recall': 0.6204379562043796,\n",
       "  'F1': 0.7657657657657658},\n",
       " 'Non-Target': {'Accuracy': 0.5714285714285714,\n",
       "  'Precision': 1.0,\n",
       "  'Recall': 0.5714285714285714,\n",
       "  'F1': 1.0}}"
      ]
     },
     "execution_count": 22,
     "metadata": {},
     "output_type": "execute_result"
    }
   ],
   "source": [
    "mf.get_metrics(output=output, detailed=True, should_print=True, round_to=3)"
   ]
  },
  {
   "cell_type": "code",
   "execution_count": 23,
   "metadata": {},
   "outputs": [
    {
     "name": "stdout",
     "output_type": "stream",
     "text": [
      "Index(['id', 'target', 'comment_text', 'severe_toxicity', 'obscene',\n",
      "       'identity_attack', 'insult', 'threat', 'asian', 'atheist', 'bisexual',\n",
      "       'black', 'buddhist', 'christian', 'female', 'heterosexual', 'hindu',\n",
      "       'homosexual_gay_or_lesbian', 'intellectual_or_learning_disability',\n",
      "       'jewish', 'latino', 'male', 'muslim', 'other_disability',\n",
      "       'other_gender', 'other_race_or_ethnicity', 'other_religion',\n",
      "       'other_sexual_orientation', 'physical_disability',\n",
      "       'psychiatric_or_mental_illness', 'transgender', 'white', 'created_date',\n",
      "       'publication_id', 'parent_id', 'article_id', 'rating', 'funny', 'wow',\n",
      "       'sad', 'likes', 'disagree', 'sexual_explicit',\n",
      "       'identity_annotator_count', 'toxicity_annotator_count',\n",
      "       'cleaned_w_stopwords_str', 'cleaned_no_stem_str', 'cleaned_porter_str',\n",
      "       'cleaned_lancaster_str', 'toxicity_category', 'predicted', 'y_test'],\n",
      "      dtype='object')\n"
     ]
    }
   ],
   "source": [
    "hold_out_results = mf.run_model_test(model_df=hold_out_set, \n",
    "                                     clf=classifier, \n",
    "                                     vectorizer=fitted_vectorizer, \n",
    "                                     comments=\"cleaned_no_stem_str\", target=\"toxicity_category\")"
   ]
  },
  {
   "cell_type": "code",
   "execution_count": 24,
   "metadata": {},
   "outputs": [],
   "source": [
    "# hold_out_results.to_csv(\"holdout_results\", sep='|')"
   ]
  },
  {
   "cell_type": "code",
   "execution_count": 25,
   "metadata": {},
   "outputs": [
    {
     "name": "stdout",
     "output_type": "stream",
     "text": [
      "Overall Accuracy: 0.9451890378075615\n",
      "Overall Precision: 0.5786118980169972\n",
      "Overall Recall: 0.6198786039453718\n",
      "Overall F1 Score: 0.5985347985347984\n",
      "ROC_AUC: 0.794\n",
      "\n",
      "Target Accuracy: 0.6198786039453718\n",
      "Target Precision: 1.0\n",
      "Target Recall: 0.6198786039453718\n",
      "Target F1 Score: 0.7653395784543325\n",
      "\n",
      "Non-Target Accuracy: 0.9681443409358603\n",
      "Non-Target Precision: 1.0\n",
      "Non-Target Recall: 0.9681443409358603\n",
      "Non-Target F1 Score: 0.9838143684883436\n",
      "\n",
      "Strong Identity Accuracy: 0.5740740740740741\n",
      "Strong Identity Precision: 0.9482758620689655\n",
      "Strong Identity Recall: 0.5612244897959183\n",
      "Strong Identity F1 Score: 1.0\n",
      "\n",
      "Obscenity Accuracy: 0.6521739130434783\n",
      "Obscenity Precision: 1.0\n",
      "Obscenity Recall: 0.6521739130434783\n",
      "Obscenity F1 Score: 1.0\n",
      "\n",
      "Insults Accuracy: 0.7070193285859614\n",
      "Insults Precision: 0.9912917271407837\n",
      "Insults Recall: 0.7077720207253886\n",
      "Insults F1 Score: 1.0\n",
      "\n",
      "Threats Accuracy: 0.24\n",
      "Threats Precision: 1.0\n",
      "Threats Recall: 0.24\n",
      "Threats F1 Score: 0.0\n",
      "\n"
     ]
    }
   ],
   "source": [
    "hold_out_metrics = mf.get_metrics(output=hold_out_results, detailed=True, should_print=True, round_to=3)"
   ]
  },
  {
   "cell_type": "markdown",
   "metadata": {},
   "source": [
    "### Feature Importance"
   ]
  },
  {
   "cell_type": "code",
   "execution_count": 83,
   "metadata": {},
   "outputs": [],
   "source": [
    "imp = classifier.coef_.todense().tolist()[0]\n",
    "imp2, names = zip(*sorted(zip(imp,feature_names)))\n",
    "\n",
    "top_pos = np,\n",
    "plt.barh(range(len(names)), names)\n",
    "plt.yticks(range(len(names)), names)\n",
    "plt.show()\n",
    "imp"
   ]
  },
  {
   "cell_type": "code",
   "execution_count": 132,
   "metadata": {},
   "outputs": [],
   "source": [
    "imps = imp2[-10:] + imp2[:10]\n",
    "words = names[-10:] + names[:10]"
   ]
  },
  {
   "cell_type": "code",
   "execution_count": 133,
   "metadata": {},
   "outputs": [],
   "source": [
    "tograph = pd.DataFrame()\n",
    "tograph['importances'] = imps\n",
    "tograph['words'] = words\n",
    "tograph['type'] = tograph.importances.apply(lambda x: 1 if x > 0 else 0)"
   ]
  },
  {
   "cell_type": "code",
   "execution_count": 134,
   "metadata": {},
   "outputs": [
    {
     "data": {
      "text/plain": [
       "<matplotlib.axes._subplots.AxesSubplot at 0x7f0b4a7369e8>"
      ]
     },
     "execution_count": 134,
     "metadata": {},
     "output_type": "execute_result"
    },
    {
     "data": {
      "image/png": "[encoded data removed]",
      "text/plain": [
       "<Figure size 432x288 with 1 Axes>"
      ]
     },
     "metadata": {},
     "output_type": "display_data"
    }
   ],
   "source": [
    "sns.barplot(x=\"importances\", y=\"words\", data=tograph, hue=\"type\")"
   ]
  }
 ],
 "metadata": {
  "kernelspec": {
   "display_name": "conda_python3",
   "language": "python",
   "name": "conda_python3"
  }
 },
 "nbformat": 4,
 "nbformat_minor": 2
}
